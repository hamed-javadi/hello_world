{
  "nbformat": 4,
  "nbformat_minor": 0,
  "metadata": {
    "colab": {
      "name": "DL_source_localization.ipynb",
      "version": "0.3.2",
      "provenance": [],
      "collapsed_sections": [],
      "include_colab_link": true
    },
    "kernelspec": {
      "name": "python3",
      "display_name": "Python 3"
    }
  },
  "cells": [
    {
      "cell_type": "markdown",
      "metadata": {
        "id": "view-in-github",
        "colab_type": "text"
      },
      "source": [
        "<a href=\"https://colab.research.google.com/github/hamed-javadi/hello_world/blob/master/DL_source_localization.ipynb\" target=\"_parent\"><img src=\"https://colab.research.google.com/assets/colab-badge.svg\" alt=\"Open In Colab\"/></a>"
      ]
    },
    {
      "metadata": {
        "id": "65RyorJq6f2_",
        "colab_type": "text"
      },
      "cell_type": "markdown",
      "source": [
        "#Source localization with deep learning (SoLDeL)"
      ]
    },
    {
      "metadata": {
        "id": "i7lEW97u6rON",
        "colab_type": "text"
      },
      "cell_type": "markdown",
      "source": [
        "Loading images and splitting them into training and test data"
      ]
    },
    {
      "metadata": {
        "id": "SijJTkPwjf-j",
        "colab_type": "code",
        "colab": {
          "base_uri": "https://localhost:8080/",
          "height": 122
        },
        "outputId": "109bedcb-3d6c-4ba7-80e6-54b85b09fd90"
      },
      "cell_type": "code",
      "source": [
        "import numpy as np\n",
        "import google.colab.drive as gd\n",
        "import pickle as pkl\n",
        "gd.mount('/content/gdrive',force_remount=True)\n",
        "data = open('/content/gdrive/My Drive/sldb','rb')\n",
        "image, y = pkl.load(data)\n",
        "\n",
        "L, m_tot = image.shape[1], y.shape[0]\n",
        "m_trn = np.floor(m_tot * .9).astype('int')\n",
        "im_trn, y_trn = image[:m_trn,:,:].reshape(m_trn,L,L,1), y[:m_trn,:]\n",
        "im_test, y_test = image[m_trn:,:,:].reshape(m_tot-m_trn,L,L,1), y[m_trn:,:]"
      ],
      "execution_count": 1,
      "outputs": [
        {
          "output_type": "stream",
          "text": [
            "Go to this URL in a browser: https://accounts.google.com/o/oauth2/auth?client_id=947318989803-6bn6qk8qdgf4n4g3pfee6491hc0brc4i.apps.googleusercontent.com&redirect_uri=urn%3Aietf%3Awg%3Aoauth%3A2.0%3Aoob&scope=email%20https%3A%2F%2Fwww.googleapis.com%2Fauth%2Fdocs.test%20https%3A%2F%2Fwww.googleapis.com%2Fauth%2Fdrive%20https%3A%2F%2Fwww.googleapis.com%2Fauth%2Fdrive.photos.readonly%20https%3A%2F%2Fwww.googleapis.com%2Fauth%2Fpeopleapi.readonly&response_type=code\n",
            "\n",
            "Enter your authorization code:\n",
            "··········\n",
            "Mounted at /content/gdrive\n"
          ],
          "name": "stdout"
        }
      ]
    },
    {
      "metadata": {
        "id": "jDSdSIEhQao_",
        "colab_type": "code",
        "colab": {
          "base_uri": "https://localhost:8080/",
          "height": 615
        },
        "outputId": "f7de674c-5371-46f4-9c95-709f1bcb3070"
      },
      "cell_type": "code",
      "source": [
        "from keras.models import Sequential\n",
        "from keras.layers import Conv2D, AveragePooling2D, Dropout, Dense, Flatten\n",
        "\n",
        "model = Sequential()\n",
        "# Convolution Layer 1\n",
        "model.add(Conv2D(filters=4,kernel_size=5,activation = 'relu', input_shape=(100,100,1)))\n",
        "model.add(AveragePooling2D(pool_size=(4, 4)))\n",
        "# Convolution Layer 2\n",
        "model.add(Conv2D(filters=2,kernel_size=5,activation = 'relu'))\n",
        "model.add(AveragePooling2D(pool_size=(4, 4)))\n",
        "\n",
        "model.add(Flatten())\n",
        "# FCN Layer 1\n",
        "model.add(Dense(25,activation='relu'))\n",
        "model.add(Dropout(0.5))\n",
        "model.add(Dense(5,activation='relu'))\n",
        "model.add(Dropout(0.5))\n",
        "model.add(Dense(2,activation='relu'))\n",
        "\n",
        "model.summary()\n",
        "\n",
        "# Compile CNN\n",
        "model.compile(optimizer='adam', loss='mse', metrics=['accuracy'])"
      ],
      "execution_count": 2,
      "outputs": [
        {
          "output_type": "stream",
          "text": [
            "Using TensorFlow backend.\n"
          ],
          "name": "stderr"
        },
        {
          "output_type": "stream",
          "text": [
            "WARNING:tensorflow:From /usr/local/lib/python3.6/dist-packages/tensorflow/python/framework/op_def_library.py:263: colocate_with (from tensorflow.python.framework.ops) is deprecated and will be removed in a future version.\n",
            "Instructions for updating:\n",
            "Colocations handled automatically by placer.\n",
            "WARNING:tensorflow:From /usr/local/lib/python3.6/dist-packages/keras/backend/tensorflow_backend.py:3445: calling dropout (from tensorflow.python.ops.nn_ops) with keep_prob is deprecated and will be removed in a future version.\n",
            "Instructions for updating:\n",
            "Please use `rate` instead of `keep_prob`. Rate should be set to `rate = 1 - keep_prob`.\n",
            "_________________________________________________________________\n",
            "Layer (type)                 Output Shape              Param #   \n",
            "=================================================================\n",
            "conv2d_1 (Conv2D)            (None, 96, 96, 4)         104       \n",
            "_________________________________________________________________\n",
            "average_pooling2d_1 (Average (None, 24, 24, 4)         0         \n",
            "_________________________________________________________________\n",
            "conv2d_2 (Conv2D)            (None, 20, 20, 2)         202       \n",
            "_________________________________________________________________\n",
            "average_pooling2d_2 (Average (None, 5, 5, 2)           0         \n",
            "_________________________________________________________________\n",
            "flatten_1 (Flatten)          (None, 50)                0         \n",
            "_________________________________________________________________\n",
            "dense_1 (Dense)              (None, 25)                1275      \n",
            "_________________________________________________________________\n",
            "dropout_1 (Dropout)          (None, 25)                0         \n",
            "_________________________________________________________________\n",
            "dense_2 (Dense)              (None, 5)                 130       \n",
            "_________________________________________________________________\n",
            "dropout_2 (Dropout)          (None, 5)                 0         \n",
            "_________________________________________________________________\n",
            "dense_3 (Dense)              (None, 2)                 12        \n",
            "=================================================================\n",
            "Total params: 1,723\n",
            "Trainable params: 1,723\n",
            "Non-trainable params: 0\n",
            "_________________________________________________________________\n"
          ],
          "name": "stdout"
        }
      ]
    },
    {
      "metadata": {
        "id": "JuUgbpS-eXHc",
        "colab_type": "code",
        "colab": {
          "base_uri": "https://localhost:8080/",
          "height": 700
        },
        "outputId": "43a0bb9f-fb1d-4039-c9fc-1f7666e9a958"
      },
      "cell_type": "code",
      "source": [
        "model.fit(im_trn, y_trn, validation_data=(im_test, y_test), epochs=16, batch_size=500, verbose=1)\n",
        "scores = model.evaluate(im_test, y_test)\n",
        "print(\"\\n%s: %.2f%%\" % (model.metrics_names[1], scores[1]*100))\n",
        "\n",
        "#from keras.models import load_model\n",
        "model.save('/content/gdrive/My Drive/soldel_model1.h5')"
      ],
      "execution_count": 3,
      "outputs": [
        {
          "output_type": "stream",
          "text": [
            "WARNING:tensorflow:From /usr/local/lib/python3.6/dist-packages/tensorflow/python/ops/math_ops.py:3066: to_int32 (from tensorflow.python.ops.math_ops) is deprecated and will be removed in a future version.\n",
            "Instructions for updating:\n",
            "Use tf.cast instead.\n",
            "Train on 351000 samples, validate on 39000 samples\n",
            "Epoch 1/16\n",
            "351000/351000 [==============================] - 2172s 6ms/step - loss: 1326.9003 - acc: 0.6043 - val_loss: 555.0476 - val_acc: 0.8945\n",
            "Epoch 2/16\n",
            "351000/351000 [==============================] - 2170s 6ms/step - loss: 1063.0956 - acc: 0.6537 - val_loss: 487.7340 - val_acc: 0.9053\n",
            "Epoch 3/16\n",
            "351000/351000 [==============================] - 2163s 6ms/step - loss: 1015.0391 - acc: 0.6713 - val_loss: 465.3767 - val_acc: 0.9095\n",
            "Epoch 4/16\n",
            "351000/351000 [==============================] - 2162s 6ms/step - loss: 979.3933 - acc: 0.6837 - val_loss: 454.7269 - val_acc: 0.9134\n",
            "Epoch 5/16\n",
            "351000/351000 [==============================] - 2154s 6ms/step - loss: 945.4281 - acc: 0.6886 - val_loss: 412.3117 - val_acc: 0.9145\n",
            "Epoch 6/16\n",
            "351000/351000 [==============================] - 2161s 6ms/step - loss: 915.0850 - acc: 0.6888 - val_loss: 423.2812 - val_acc: 0.9207\n",
            "Epoch 7/16\n",
            "351000/351000 [==============================] - 2161s 6ms/step - loss: 880.8123 - acc: 0.6932 - val_loss: 391.7342 - val_acc: 0.9243\n",
            "Epoch 8/16\n",
            "351000/351000 [==============================] - 2158s 6ms/step - loss: 850.2544 - acc: 0.6929 - val_loss: 343.3478 - val_acc: 0.9226\n",
            "Epoch 9/16\n",
            "351000/351000 [==============================] - 2159s 6ms/step - loss: 830.8272 - acc: 0.6918 - val_loss: 353.3410 - val_acc: 0.9198\n",
            "Epoch 10/16\n",
            "351000/351000 [==============================] - 2157s 6ms/step - loss: 813.9184 - acc: 0.6951 - val_loss: 356.6277 - val_acc: 0.9213\n",
            "Epoch 11/16\n",
            "351000/351000 [==============================] - 2161s 6ms/step - loss: 796.5317 - acc: 0.7001 - val_loss: 339.3191 - val_acc: 0.9246\n",
            "Epoch 12/16\n",
            "351000/351000 [==============================] - 2165s 6ms/step - loss: 774.9633 - acc: 0.7098 - val_loss: 307.8886 - val_acc: 0.9301\n",
            "Epoch 13/16\n",
            "351000/351000 [==============================] - 2162s 6ms/step - loss: 757.2952 - acc: 0.7133 - val_loss: 300.2972 - val_acc: 0.9224\n",
            "Epoch 14/16\n",
            "351000/351000 [==============================] - 2160s 6ms/step - loss: 738.4271 - acc: 0.7189 - val_loss: 298.9953 - val_acc: 0.9196\n",
            "Epoch 15/16\n",
            "351000/351000 [==============================] - 2161s 6ms/step - loss: 720.9204 - acc: 0.7231 - val_loss: 293.7003 - val_acc: 0.9193\n",
            "Epoch 16/16\n",
            "351000/351000 [==============================] - 2162s 6ms/step - loss: 707.6624 - acc: 0.7250 - val_loss: 285.7191 - val_acc: 0.9148\n",
            "39000/39000 [==============================] - 187s 5ms/step\n",
            "\n",
            "acc: 91.48%\n"
          ],
          "name": "stdout"
        }
      ]
    },
    {
      "metadata": {
        "id": "Re_iiiBeJRXY",
        "colab_type": "text"
      },
      "cell_type": "markdown",
      "source": [
        "#Applying the model in source localization"
      ]
    },
    {
      "metadata": {
        "id": "dXeO1J9FddHu",
        "colab_type": "code",
        "colab": {}
      },
      "cell_type": "code",
      "source": [
        "#import numpy as np\n",
        "from scipy.stats import chi2\n",
        "import matplotlib.pyplot as plt\n",
        "#import google.colab.drive as gd\n",
        "#gd.mount('/content/gdrive',force_remount=True)\n",
        "\n",
        "#from keras.models import load_model\n",
        "#model = load_model('/content/gdrive/My Drive/soldel.h5')\n",
        "\n",
        "def network_layout(K,nodes,pfa,el,P0,sig):\n",
        "  tau = chi2.ppf(1-pfa,1)\n",
        "  d = np.zeros(K) #distance of nodes to the event location\n",
        "  for i in range(K):\n",
        "    d[i]=np.sqrt((nodes[i,0] - el[0])**2 + (nodes[i,1]-el[1])**2)\n",
        "  P = P0 / (1+d**a)\n",
        "  t = P > 2\n",
        "  P = P * t\n",
        "  \n",
        "  x = np.sqrt(P) + np.random.normal(0,sig,K)\n",
        "  lmda = x**2 / sig**2\n",
        "  y = lmda > tau\n",
        "  return y\n",
        "\n",
        "def layout2image(L,nodes,y):\n",
        "  im = np.zeros((L,L))\n",
        "  i = 0\n",
        "  for loc in nodes:\n",
        "    nl = np.floor(loc).astype(int)\n",
        "    #pdb.set_trace()\n",
        "    if y[i] == True:\n",
        "      im[nl[0],nl[1]] = 255\n",
        "    i += 1\n",
        "  return im"
      ],
      "execution_count": 0,
      "outputs": []
    },
    {
      "metadata": {
        "id": "kY3IjDu-Ozd9",
        "colab_type": "text"
      },
      "cell_type": "markdown",
      "source": [
        "##MSE vs. K"
      ]
    },
    {
      "metadata": {
        "id": "oh5cj2DRO4HW",
        "colab_type": "code",
        "colab": {
          "base_uri": "https://localhost:8080/",
          "height": 269
        },
        "outputId": "48c9171f-13ee-4b74-f497-66bd2a4c2461"
      },
      "cell_type": "code",
      "source": [
        "# Parameters\n",
        "pfa = .1\n",
        "P0 = 1000\n",
        "a = 2      # loss coefficient in isotropic source signal model\n",
        "sig = 1    # standard deviation of measurement noise of nodes\n",
        "L = 100    # field size\n",
        "mc_runs = 300    # Monte-Carlo runs\n",
        "# Main Code\n",
        "K = np.arange(100,1000,100)\n",
        "mse_mc = np.zeros(mc_runs)\n",
        "mse = np.zeros(len(K))\n",
        "for i in range(len(K)):\n",
        "  mc = 0\n",
        "  while mc < mc_runs:\n",
        "    nodes = L * np.random.rand(K[i],2)\n",
        "    el = L * np.random.rand(2)   # event location\n",
        "    y = network_layout(K[i],nodes,pfa,el,P0,sig)\n",
        "    image = layout2image(L,nodes,y)\n",
        "    el_hat = model.predict(image.reshape(1,L,L,1))\n",
        "    mse_mc[mc] = np.linalg.norm(el-el_hat)\n",
        "    mc += 1\n",
        "  mse[i] = np.mean(mse_mc)\n",
        "\n",
        "mse_K = mse\n",
        "plt.figure()\n",
        "plt.plot(K,mse,'-o')\n",
        "plt.show()\n"
      ],
      "execution_count": 12,
      "outputs": [
        {
          "output_type": "display_data",
          "data": {
            "image/png": "[encoded data removed]",
            "text/plain": [
              "<Figure size 432x288 with 1 Axes>"
            ]
          },
          "metadata": {
            "tags": []
          }
        }
      ]
    },
    {
      "metadata": {
        "id": "moOhHcjxtOjB",
        "colab_type": "text"
      },
      "cell_type": "markdown",
      "source": [
        "## MSE vs. SNR"
      ]
    },
    {
      "metadata": {
        "id": "18zWvP9pdXGQ",
        "colab_type": "code",
        "colab": {
          "base_uri": "https://localhost:8080/",
          "height": 269
        },
        "outputId": "d871a786-231d-4a63-8421-a36cd9ab99de"
      },
      "cell_type": "code",
      "source": [
        "# Parameters\n",
        "pfa = .1\n",
        "P0 = 1000\n",
        "a = 2      # loss coefficient in isotropic source signal model\n",
        "K = 500    # standard deviation of measurement noise of nodes\n",
        "L = 100    # field size\n",
        "mc_runs = 1000    # Monte-Carlo runs\n",
        "# Main Code\n",
        "sig = np.linspace(1,1.6,10)\n",
        "mse_mc = np.zeros(mc_runs)\n",
        "mse = np.zeros(len(sig))\n",
        "for i in range(len(sig)):\n",
        "  mc = 0\n",
        "  while mc < mc_runs:\n",
        "    nodes = L * np.random.rand(K,2)\n",
        "    el = L * np.random.rand(2)   # event location\n",
        "    y = network_layout(K,nodes,pfa,el,P0,sig[i])\n",
        "    image = layout2image(L,nodes,y)\n",
        "    el_hat = model.predict(image.reshape(1,L,L,1))\n",
        "    mse_mc[mc] = np.linalg.norm(el-el_hat)\n",
        "    mc += 1\n",
        "  mse[i] = np.mean(mse_mc)\n",
        "\n",
        "  mse_snr = mse\n",
        "plt.figure()\n",
        "plt.plot(P0/(sig**2),mse,'-o')\n",
        "plt.show()\n"
      ],
      "execution_count": 13,
      "outputs": [
        {
          "output_type": "display_data",
          "data": {
            "image/png": "[encoded data removed]",
            "text/plain": [
              "<Figure size 432x288 with 1 Axes>"
            ]
          },
          "metadata": {
            "tags": []
          }
        }
      ]
    },
    {
      "metadata": {
        "id": "NLuuYl2_wasB",
        "colab_type": "text"
      },
      "cell_type": "markdown",
      "source": [
        "##MSE vs. P<sub>fa</sub>"
      ]
    },
    {
      "metadata": {
        "id": "1CjHdJV1wqca",
        "colab_type": "code",
        "colab": {
          "base_uri": "https://localhost:8080/",
          "height": 269
        },
        "outputId": "f050d8e0-8873-484b-b706-4026a07de4e3"
      },
      "cell_type": "code",
      "source": [
        "# Parameters\n",
        "sig = 1\n",
        "P0 = 1000\n",
        "a = 2      # loss coefficient in isotropic source signal model\n",
        "K = 500    # standard deviation of measurement noise of nodes\n",
        "L = 100    # field size\n",
        "mc_runs = 600    # Monte-Carlo runs\n",
        "# Main Code\n",
        "pfa = np.arange(.05,.45,.05)\n",
        "mse_mc = np.zeros(mc_runs)\n",
        "mse = np.zeros(len(pfa))\n",
        "for i in range(len(pfa)):\n",
        "  mc = 0\n",
        "  while mc < mc_runs:\n",
        "    nodes = L * np.random.rand(K,2)\n",
        "    el = L * np.random.rand(2)   # event location\n",
        "    y = network_layout(K,nodes,pfa[i],el,P0,sig)\n",
        "    image = layout2image(L,nodes,y)\n",
        "    el_hat = model.predict(image.reshape(1,L,L,1))\n",
        "    mse_mc[mc] = np.linalg.norm(el-el_hat)\n",
        "    mc += 1\n",
        "  mse[i] = np.mean(mse_mc)\n",
        "  \n",
        "mse_pfa = mse  \n",
        "plt.figure()\n",
        "plt.plot(pfa,mse,'-o')\n",
        "plt.show()"
      ],
      "execution_count": 14,
      "outputs": [
        {
          "output_type": "display_data",
          "data": {
            "image/png": "[encoded data removed]",
            "text/plain": [
              "<Figure size 432x288 with 1 Axes>"
            ]
          },
          "metadata": {
            "tags": []
          }
        }
      ]
    },
    {
      "metadata": {
        "id": "mQesdFcgP1To",
        "colab_type": "code",
        "colab": {}
      },
      "cell_type": "code",
      "source": [
        "import pickle as pkl\n",
        "res = open('/content/gdrive/My Drive/results_SoLDeL_model1','wb')\n",
        "pkl.dump([mse_K, mse_snr, mse_pfa],res)\n",
        "res.close()"
      ],
      "execution_count": 0,
      "outputs": []
    },
    {
      "metadata": {
        "id": "QBeAanjz4FiQ",
        "colab_type": "text"
      },
      "cell_type": "markdown",
      "source": [
        "##Tracking"
      ]
    },
    {
      "metadata": {
        "id": "XfX7-wFRxD5n",
        "colab_type": "code",
        "colab": {}
      },
      "cell_type": "code",
      "source": [
        ""
      ],
      "execution_count": 0,
      "outputs": []
    }
  ]
}